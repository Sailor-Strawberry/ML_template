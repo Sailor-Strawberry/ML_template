{
 "metadata": {
  "language_info": {
   "codemirror_mode": {
    "name": "ipython",
    "version": 3
   },
   "file_extension": ".py",
   "mimetype": "text/x-python",
   "name": "python",
   "nbconvert_exporter": "python",
   "pygments_lexer": "ipython3",
   "version": "3.8.6-final"
  },
  "orig_nbformat": 2,
  "kernelspec": {
   "name": "python3",
   "display_name": "Python 3",
   "language": "python"
  }
 },
 "nbformat": 4,
 "nbformat_minor": 2,
 "cells": [
  {
   "cell_type": "code",
   "execution_count": null,
   "metadata": {},
   "outputs": [],
   "source": [
    "import pandas as pd\n",
    "import numpy as np\n",
    "import yaml\n",
    "import lightgbm as lgb\n",
    "from sklearn.model_selection import train_test_split\n",
    "import datetime\n",
    "import csv\n",
    "import lightgbm as lgb\n",
    "from sklearn.model_selection import train_test_split,KFold,cross_validate\n",
    "import sklearn.datasets\n",
    "import optuna \n",
    "CONFIG_FILE = '../configs/config.yaml'\n",
    "with open(CONFIG_FILE) as file:\n",
    "    yml = yaml.load(stream=file, Loader=yaml.SafeLoader)\n",
    "MODEL_DIR_NAME = yml['SETTING']['MODEL_DIR_NAME']\n",
    "feature_dir_name = yml['SETTING']['FEATURE_PATH']\n",
    "target = 'y'"
   ]
  },
  {
   "cell_type": "code",
   "execution_count": null,
   "metadata": {},
   "outputs": [],
   "source": [
    "features = [\n",
    "'before_is_holiday'\n",
    ",'client'\n",
    ",'close'\n",
    ",'day'\n",
    ",'dayofyear_cos'\n",
    ",'dayofyear_sin'\n",
    ",'is_holiday'\n",
    ",'month'\n",
    ",'next_is_holiday'\n",
    ",'price_am'\n",
    ",'price_pm'\n",
    ",'weekday'\n",
    ",'year'\n",
    "    ]"
   ]
  },
  {
   "cell_type": "code",
   "execution_count": null,
   "metadata": {},
   "outputs": [],
   "source": [
    "import pandas as pd\n",
    "import numpy as np\n",
    "import lightgbm as lgb\n",
    "from optuna.integration import lightgbm as lgb_optuna\n",
    "from sklearn import preprocessing\n",
    "from sklearn.model_selection import train_test_split,StratifiedKFold,cross_validate\n",
    "\n",
    "pd.set_option('display.max_columns', None)\n",
    "\n",
    "random_state = 1234\n",
    "version = 'v1'\n",
    "\n",
    "dfs = [pd.read_pickle(feature_dir_name + f'{f}_train.pkl') for f in features]\n",
    "X = pd.concat(dfs, axis=1)\n",
    "y = pd.read_pickle(feature_dir_name + target + '_train.pkl')\n",
    "dfs = [pd.read_pickle(feature_dir_name + f'{f}_test.pkl') for f in features]\n",
    "test_x = pd.concat(dfs, axis=1)\n",
    "train_y = pd.read_pickle(feature_dir_name + target + '_train.pkl')\n",
    "del dfs\n",
    "\n",
    "\n",
    "X_train, X_holdout, y_train, y_holdout = train_test_split(X, y, test_size=0.2, random_state=random_state)"
   ]
  },
  {
   "cell_type": "code",
   "execution_count": null,
   "metadata": {
    "tags": [
     "outputPrepend"
    ]
   },
   "outputs": [],
   "source": [
    "def build():\n",
    "    kf = StratifiedKFold(n_splits=5, shuffle=True, random_state=random_state)\n",
    "\n",
    "    lgb_train = lgb_optuna.Dataset(X_train, y_train)\n",
    "\n",
    "    lgbm_params = {\n",
    "        'objective': 'regression',\n",
    "        'metric': 'mae',\n",
    "        'random_state':random_state,\n",
    "        'verbosity': 0\n",
    "    }\n",
    "\n",
    "    tunecv = lgb_optuna.LightGBMTunerCV(\n",
    "        lgbm_params,\n",
    "        lgb_train,\n",
    "        num_boost_round=20000,\n",
    "        early_stopping_rounds=5000,\n",
    "        seed = random_state,\n",
    "        verbose_eval=2000,\n",
    "        folds=kf\n",
    "    )\n",
    "\n",
    "    tunecv.run()\n",
    "\n",
    "    print( 'Best score = ',tunecv.best_score)\n",
    "    print( 'Best params= ',tunecv.best_params)\n",
    "\n",
    "    return tunecv\n",
    "\n",
    "tunecv = build()"
   ]
  },
  {
   "cell_type": "code",
   "execution_count": null,
   "metadata": {
    "tags": [
     "outputPrepend"
    ]
   },
   "outputs": [],
   "source": [
    "train_data = lgb.Dataset( X_train, y_train )\n",
    "eval_data = lgb.Dataset(X_holdout, label=y_holdout, reference= train_data)\n",
    "clf = lgb.train( tunecv.best_params, \n",
    "                train_data,\n",
    "                valid_sets=eval_data,\n",
    "                num_boost_round=20000,\n",
    "                verbose_eval=0\n",
    "               )\n",
    "prediction_LG = clf.predict( test_x )"
   ]
  },
  {
   "cell_type": "code",
   "execution_count": null,
   "metadata": {},
   "outputs": [],
   "source": [
    "submission = pd.DataFrame(prediction_LG)\n",
    "id = pd.read_csv('../data/raw/sample_submission.csv',header=None)\n",
    "dd = pd.concat([id,submission],axis=1)\n",
    "now = datetime.datetime.now()\n",
    "dd.to_csv('../data/submission/log_' + now.strftime('%Y%m%d_%H%M%S') + '.csv', header=False, index=False)"
   ]
  },
  {
   "cell_type": "code",
   "execution_count": null,
   "metadata": {},
   "outputs": [],
   "source": []
  }
 ]
}